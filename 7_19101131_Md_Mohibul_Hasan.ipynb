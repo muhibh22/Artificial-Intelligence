{
  "cells": [
    {
      "cell_type": "markdown",
      "metadata": {
        "id": "HBtBAwa1icVr"
      },
      "source": [
        "Question1\n"
      ]
    },
    {
      "cell_type": "code",
      "execution_count": 2,
      "metadata": {
        "colab": {
          "base_uri": "https://localhost:8080/"
        },
        "id": "YAckQfiiheNs",
        "outputId": "24327e2e-512f-4efc-dfbd-3de2485ddc60"
      },
      "outputs": [
        {
          "name": "stdout",
          "output_type": "stream",
          "text": [
            "5\n"
          ]
        }
      ],
      "source": [
        "mat= []\n",
        "f=open(\"inputQ11.txt\")\n",
        "for line in f:\n",
        "    m=[item.strip() for item in line.split(' ')]\n",
        "    mat.append(m)\n",
        "f.close()\n",
        "def dangerzone(grid):\n",
        "    r = len(grid)\n",
        "    c = len(grid[0])\n",
        "    maximum = 0\n",
        "    def calculate(i, j, grid, count):\n",
        "        step=[(-1,-1),(-1,0),(-1,1),(0,-1),(0,0),(0,1),(1,-1),(1,0),(1,1)]\n",
        "        if grid[i][j] !=\"Y\":\n",
        "            return count\n",
        "        else:\n",
        "            count +=1\n",
        "            grid[i][j] = \".\"\n",
        "\n",
        "        for x, y in step:\n",
        "            if 0 <= i+x <r and 0<= j+y < c:\n",
        "                count=max(count, calculate(i+x, j+y, grid, count))\n",
        "        return count\n",
        "    for i in range(r):\n",
        "        for j in range(c):\n",
        "            maximum=max(maximum, calculate(i, j, grid, 0))\n",
        "    return maximum\n",
        "    \n",
        "print(dangerzone(mat))"
      ]
    },
    {
      "cell_type": "markdown",
      "metadata": {
        "id": "EnikU4D4ilmO"
      },
      "source": [
        "Question2 "
      ]
    },
    {
      "cell_type": "code",
      "execution_count": 5,
      "metadata": {
        "colab": {
          "base_uri": "https://localhost:8080/"
        },
        "id": "aDVfu6Gkikv-",
        "outputId": "1ab05193-c71c-4ecf-dc83-daf6b9b89165"
      },
      "outputs": [
        {
          "name": "stdout",
          "output_type": "stream",
          "text": [
            "Time: 4 minutes\n",
            "no one survived\n"
          ]
        }
      ],
      "source": [
        "matrix= []\n",
        "f=open(\"inputQ21.txt\")\n",
        "r=int(f.read(1))\n",
        "c=int(f.read(2))\n",
        "content=f.readlines()\n",
        "content=content[1:r+1]\n",
        "for line in content:\n",
        "    m=[item.strip() for item in line.split(' ')]\n",
        "    matrix.append(m)\n",
        "f.close()\n",
        "def aliencount(area51):\n",
        "    alien=0\n",
        "    for i in range(r):\n",
        "        for j in range(c):\n",
        "            if area51[i][j]:\n",
        "                if area51[i][j]==\"A\":\n",
        "                    alien+=1\n",
        "    return alien\n",
        "def humancount(area51):\n",
        "    human=0\n",
        "    for i in range(r):\n",
        "        for j in range(c):\n",
        "            if area51[i][j]:\n",
        "                if area51[i][j]==\"H\":\n",
        "                    human+=1\n",
        "    return human\n",
        "human=humancount(matrix)\n",
        "alien=aliencount(matrix)\n",
        "def calculate(area51,human,alien):\n",
        "    alive=0\n",
        "    for i in range(r):\n",
        "        for j in range(c):\n",
        "            if area51[i][j]==\"H\":\n",
        "                if area51[i-1][j] == \"A\":\n",
        "                    area51[i][j] = \"A\"\n",
        "                elif area51[i][j-1] == \"A\":\n",
        "                    area51[i][j] = \"A\"\n",
        "                elif i+1<r and j<c and area51[i+1][j]==\"A\":\n",
        "                    area51[i][j] = \"A\"\n",
        "    for i in range(r):\n",
        "        for j in range(c):\n",
        "            if area51[i][j]==\"H\":\n",
        "                if i<r and j+1<c and area51[i][j+1]==\"A\":\n",
        "                    area51[i][j]= \"A\"     \n",
        "    for i in range(r):\n",
        "        for j in range(c):\n",
        "            if area51[i][j]==\"H\":\n",
        "                alive+=1\n",
        "    result=(human-alive)/alien\n",
        "    print(\"Time:\", int(0.5+result),\"minutes\")\n",
        "    if alive==0:\n",
        "        print(\"no one survived\")\n",
        "    else:\n",
        "        print(alive, \"survived\") \n",
        "calculate(matrix, human, alien)\n"
      ]
    }
  ],
  "metadata": {
    "colab": {
      "collapsed_sections": [],
      "name": "7_19101131_Md. Mohibul Hasan.ipynb",
      "provenance": []
    },
    "kernelspec": {
      "display_name": "Python 3",
      "name": "python3"
    },
    "language_info": {
      "name": "python"
    }
  },
  "nbformat": 4,
  "nbformat_minor": 0
}
